{
  "nbformat": 4,
  "nbformat_minor": 0,
  "metadata": {
    "colab": {
      "provenance": [],
      "authorship_tag": "ABX9TyPcyMbaPeP+KEhN/4MIIE8R",
      "include_colab_link": true
    },
    "kernelspec": {
      "name": "ir",
      "display_name": "R"
    },
    "language_info": {
      "name": "R"
    }
  },
  "cells": [
    {
      "cell_type": "markdown",
      "metadata": {
        "id": "view-in-github",
        "colab_type": "text"
      },
      "source": [
        "<a href=\"https://colab.research.google.com/github/DavidMSiqueira/Trabalho-da-Disciplina-de-Programa-o-em-R-da-P-s-Gradua-o-de-Ci-ncia-de-Dados-da-Unicarioca/blob/main/Trabalho_da_Disciplina_de_Programa%C3%A7%C3%A3o_em_R_da_P%C3%B3s_Gradua%C3%A7%C3%A3o_de_Ci%C3%AAncia_de_Dados_da_Unicarioca.ipynb\" target=\"_parent\"><img src=\"https://colab.research.google.com/assets/colab-badge.svg\" alt=\"Open In Colab\"/></a>"
      ]
    },
    {
      "cell_type": "markdown",
      "source": [
        "# **Desafios**\n"
      ],
      "metadata": {
        "id": "mxeEPwAuKDrf"
      }
    }
  ]
}